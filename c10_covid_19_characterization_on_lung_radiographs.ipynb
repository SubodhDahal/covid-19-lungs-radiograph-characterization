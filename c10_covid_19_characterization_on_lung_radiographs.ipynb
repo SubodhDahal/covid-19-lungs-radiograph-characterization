{
  "nbformat": 4,
  "nbformat_minor": 0,
  "metadata": {
    "colab": {
      "name": "c10-covid-19-characterization-on-lung-radiographs.ipynb",
      "provenance": [],
      "collapsed_sections": []
    },
    "kernelspec": {
      "name": "python3",
      "display_name": "Python 3"
    },
    "accelerator": "GPU"
  },
  "cells": [
    {
      "cell_type": "markdown",
      "metadata": {
        "id": "hy2Kw5-4FpUF",
        "colab_type": "text"
      },
      "source": [
        "# C10-COVID-19 Characterization on Lung Radiographs\n",
        "\n",
        "For Coding.Waterkant hackathon"
      ]
    },
    {
      "cell_type": "code",
      "metadata": {
        "id": "Xz2xjeYY2ezy",
        "colab_type": "code",
        "colab": {}
      },
      "source": [
        "from enum import Enum\n",
        "import json\n",
        "import os\n",
        "import datetime\n",
        "\n",
        "import cv2\n",
        "import matplotlib.pyplot as plt\n",
        "import numpy as np\n",
        "from imutils import paths\n",
        "\n",
        "import tensorflow as tf\n",
        "from tensorflow.keras.preprocessing.image import ImageDataGenerator, DirectoryIterator\n",
        "from tensorflow.keras.applications import VGG16, InceptionV3\n",
        "from tensorflow.keras.layers import AveragePooling2D, GlobalAveragePooling2D\n",
        "from tensorflow.keras.layers import Dropout, Flatten, Dense, Input, Model\n",
        "from tensorflow.keras.optimizers import Adam, SGD"
      ],
      "execution_count": 0,
      "outputs": []
    },
    {
      "cell_type": "code",
      "metadata": {
        "id": "mmM7JtYQAdUt",
        "colab_type": "code",
        "outputId": "e1175ce5-d25d-4a55-80cf-880f8867bd86",
        "colab": {
          "base_uri": "https://localhost:8080/",
          "height": 35
        }
      },
      "source": [
        "from google.colab import drive\n",
        "drive.mount('/content/drive')"
      ],
      "execution_count": 0,
      "outputs": [
        {
          "output_type": "stream",
          "text": [
            "Drive already mounted at /content/drive; to attempt to forcibly remount, call drive.mount(\"/content/drive\", force_remount=True).\n"
          ],
          "name": "stdout"
        }
      ]
    },
    {
      "cell_type": "markdown",
      "metadata": {
        "id": "GrAWhaBgMRIu",
        "colab_type": "text"
      },
      "source": [
        "### Defining constants"
      ]
    },
    {
      "cell_type": "code",
      "metadata": {
        "id": "yyW3dPWe2OJC",
        "colab_type": "code",
        "colab": {}
      },
      "source": [
        "ROOT_DIR = './drive/My Drive/Waterkant/'\n",
        "TRAIN_IMAGES_PATH = os.path.join(ROOT_DIR, 'chest_xray/train')\n",
        "VAL_IMAGES_PATH = os.path.join(ROOT_DIR, 'chest_xray/val')\n",
        "TEST_IMAGES_PATH = os.path.join(ROOT_DIR, 'chest_xray/test')\n",
        "FINAL_TEST_IMAGES_PATH = os.path.join(ROOT_DIR, 'chest_xray/final')"
      ],
      "execution_count": 0,
      "outputs": []
    },
    {
      "cell_type": "code",
      "metadata": {
        "id": "ZmpZwUc_2hF1",
        "colab_type": "code",
        "colab": {}
      },
      "source": [
        "INIT_LR = 1e-3\n",
        "EPOCHS = 25\n",
        "BATCH_SIZE = 32"
      ],
      "execution_count": 0,
      "outputs": []
    },
    {
      "cell_type": "code",
      "metadata": {
        "id": "KHhJEPRyA0Ws",
        "colab_type": "code",
        "colab": {}
      },
      "source": [
        "class ModelChoices(Enum):\n",
        "  VGG = 1\n",
        "  INCEPTIONV3 = 2\n",
        "  XCEPTION = 3\n",
        "  ENSEMBLE = 0"
      ],
      "execution_count": 0,
      "outputs": []
    },
    {
      "cell_type": "code",
      "metadata": {
        "id": "bphzCI9wBCgW",
        "colab_type": "code",
        "colab": {}
      },
      "source": [
        "selected_model = ModelChoices.VGG\n",
        "# Note: InceptionV3 model slightly better than VGG on pre-COVID dataset,\n",
        "# whereas VGG performed significantly better on pre-COVID dataset\n",
        "# Xception and ensemble model couldn't be tested due to training time constraints"
      ],
      "execution_count": 0,
      "outputs": []
    },
    {
      "cell_type": "markdown",
      "metadata": {
        "id": "McF9bcgnMLff",
        "colab_type": "text"
      },
      "source": [
        "### Load datasets"
      ]
    },
    {
      "cell_type": "code",
      "metadata": {
        "id": "Fzc-E8wf9Mpy",
        "colab_type": "code",
        "colab": {}
      },
      "source": [
        "resize_to = (224, 224)  # For use with pre-trained models"
      ],
      "execution_count": 0,
      "outputs": []
    },
    {
      "cell_type": "code",
      "metadata": {
        "id": "p-HgkmYYg4Ep",
        "colab_type": "code",
        "outputId": "2426b3f3-4abd-4aae-bef4-8c93af5d88e2",
        "colab": {
          "base_uri": "https://localhost:8080/",
          "height": 35
        }
      },
      "source": [
        "train_aug = ImageDataGenerator(brightness_range=[0.2, 1.0], zoom_range=0.2, fill_mode=\"nearest\")\n",
        "train_set = DirectoryIterator(TRAIN_IMAGES_PATH, train_aug, target_size=resize_to, color_mode='rgb', batch_size=BATCH_SIZE, class_mode='binary')"
      ],
      "execution_count": 0,
      "outputs": [
        {
          "output_type": "stream",
          "text": [
            "Found 5216 images belonging to 2 classes.\n"
          ],
          "name": "stdout"
        }
      ]
    },
    {
      "cell_type": "code",
      "metadata": {
        "id": "GMu9blnOl3Wb",
        "colab_type": "code",
        "outputId": "9f7df714-43a2-4767-dbad-20168c37b72a",
        "colab": {
          "base_uri": "https://localhost:8080/",
          "height": 35
        }
      },
      "source": [
        "val_aug = ImageDataGenerator(rotation_range=15, fill_mode=\"nearest\")\n",
        "validation_set = DirectoryIterator(VAL_IMAGES_PATH, val_aug, target_size=resize_to, color_mode='rgb', batch_size=BATCH_SIZE, class_mode='binary')"
      ],
      "execution_count": 0,
      "outputs": [
        {
          "output_type": "stream",
          "text": [
            "Found 16 images belonging to 2 classes.\n"
          ],
          "name": "stdout"
        }
      ]
    },
    {
      "cell_type": "code",
      "metadata": {
        "id": "4AYe40zxnKXt",
        "colab_type": "code",
        "outputId": "99689c99-4dc2-4362-e3fb-ff333514b5ca",
        "colab": {
          "base_uri": "https://localhost:8080/",
          "height": 35
        }
      },
      "source": [
        "test_set = DirectoryIterator(TEST_IMAGES_PATH, None, target_size=resize_to, color_mode='rgb', batch_size=BATCH_SIZE, class_mode='binary')"
      ],
      "execution_count": 0,
      "outputs": [
        {
          "output_type": "stream",
          "text": [
            "Found 16 images belonging to 2 classes.\n"
          ],
          "name": "stdout"
        }
      ]
    },
    {
      "cell_type": "markdown",
      "metadata": {
        "id": "h_uH46G9LT2S",
        "colab_type": "text"
      },
      "source": [
        "### Instantiate preferred model"
      ]
    },
    {
      "cell_type": "code",
      "metadata": {
        "id": "QPhKnWhQ3ram",
        "colab_type": "code",
        "outputId": "cde2df5d-3d2c-4605-8f0b-62c9346a1092",
        "colab": {
          "base_uri": "https://localhost:8080/",
          "height": 72
        }
      },
      "source": [
        "if selected_model == ModelChoices.VGG:\n",
        "\t# load a pre-trained VGG16 network, ensuring the head FC layer sets are left off\n",
        "\tbase_model = VGG16(weights=\"imagenet\", include_top=False,\n",
        "\t\tinput_tensor=Input(shape=(*resize_to, 3)))\n",
        "\n",
        "\tn_output_classes = 2\n",
        "\n",
        "\t# construct the head of the model that will be placed on top of the\n",
        "\t# the base model\n",
        "\theadModel = base_model.output\n",
        "\theadModel = AveragePooling2D(pool_size=(4, 4))(headModel)\n",
        "\theadModel = Flatten(name=\"flatten\")(headModel)\n",
        "\theadModel = Dense(64, activation=\"relu\")(headModel)\n",
        "\theadModel = Dropout(0.5)(headModel)\n",
        "\theadModel = Dense(n_output_classes, activation=\"softmax\")(headModel)\n",
        "\t# place the head FC model on top of the base model (this will become\n",
        "\t# the actual model we will train)\n",
        "\tmodel = Model(inputs=base_model.input, outputs=headModel)\n",
        "\t# loop over all layers in the base model and freeze them so they will\n",
        "\t# *not* be updated during the first training process\n",
        "\tfor layer in base_model.layers:\n",
        "\t\tlayer.trainable = False\n",
        "\n",
        "\t# compile our model\n",
        "\tprint(\"[INFO] compiling model...\")\n",
        "\topt = Adam(lr=INIT_LR, decay=INIT_LR / EPOCHS)\n",
        "\tmodel.compile(optimizer=opt, loss=\"binary_crossentropy\",\n",
        "\t\tmetrics=[\"accuracy\"])"
      ],
      "execution_count": 0,
      "outputs": [
        {
          "output_type": "stream",
          "text": [
            "Downloading data from https://storage.googleapis.com/tensorflow/keras-applications/vgg16/vgg16_weights_tf_dim_ordering_tf_kernels_notop.h5\n",
            "58892288/58889256 [==============================] - 0s 0us/step\n",
            "[INFO] compiling model...\n"
          ],
          "name": "stdout"
        }
      ]
    },
    {
      "cell_type": "code",
      "metadata": {
        "id": "_Syrz-981SNQ",
        "colab_type": "code",
        "colab": {}
      },
      "source": [
        "if selected_model == ModelChoices.INCEPTIONV3:\n",
        "  # create the base pre-trained model\n",
        "  base_model = InceptionV3(weights='imagenet', include_top=False)\n",
        "\n",
        "  n_output_classes = 2\n",
        "\n",
        "  # add a global spatial average pooling layer\n",
        "  x = base_model.output\n",
        "  x = GlobalAveragePooling2D()(x)\n",
        "  # let's add a fully-connected layer\n",
        "  x = Dense(1024, activation='relu')(x)\n",
        "  # and a logistic layer -- let's say we have 200 classes\n",
        "  predictions = Dense(n_output_classes, activation='softmax')(x)\n",
        "\n",
        "  # this is the model we will train\n",
        "  model = Model(inputs=base_model.input, outputs=predictions)\n",
        "\n",
        "  # first: train only the top layers (which were randomly initialized)\n",
        "  # i.e. freeze all convolutional InceptionV3 layers\n",
        "  for layer in base_model.layers:\n",
        "      layer.trainable = False\n",
        "\n",
        "  # compile the model (should be done *after* setting layers to non-trainable)\n",
        "  print(\"[INFO] compiling model...\")\n",
        "  opt = Adam(lr=INIT_LR, decay=INIT_LR / EPOCHS)\n",
        "  model.compile(optimizer=opt, loss=\"binary_crossentropy\", metrics=[\"accuracy\"])\n",
        "\n",
        "  # train the model on the new data for a few epochs\n",
        "  model.fit(train_set, \n",
        "      steps_per_epoch=len(train_set),\n",
        "      validation_data=validation_set,\n",
        "      validation_steps=len(validation_set),\n",
        "      epochs=3\n",
        "  )\n",
        "\n",
        "  # at this point, the top layers are well trained and we can start fine-tuning\n",
        "  # convolutional layers from inception V3. We will freeze the bottom N layers\n",
        "  # and train the remaining top layers.\n",
        "\n",
        "  # let's visualize layer names and layer indices to see how many layers\n",
        "  # we should freeze:\n",
        "  for i, layer in enumerate(base_model.layers):\n",
        "    print(i, layer.name)\n",
        "\n",
        "  # we chose to train the top 2 inception blocks, i.e. we will freeze\n",
        "  # the first 249 layers and unfreeze the rest:\n",
        "  for layer in model.layers[:249]:\n",
        "    layer.trainable = False\n",
        "  for layer in model.layers[249:]:\n",
        "    layer.trainable = True\n",
        "\n",
        "  # we need to recompile the model for these modifications to take effect\n",
        "  # we use SGD with a low learning rate\n",
        "  model.compile(optimizer=SGD(lr=0.0001, momentum=0.9), loss='categorical_crossentropy')\n"
      ],
      "execution_count": 0,
      "outputs": []
    },
    {
      "cell_type": "code",
      "metadata": {
        "id": "NfvkBtPJF0YJ",
        "colab_type": "code",
        "colab": {}
      },
      "source": [
        "if selected_model == ModelChoices.XCEPTION:\n",
        "  base_model = tf.keras.applications.Xception(input_shape=(*resize_to, 3), include_top=False, weights=\"imagenet\")\n",
        "\n",
        "  for layer in base_model.layers:\n",
        "    layer.trainable = False\n",
        "\n",
        "  n_output_classes = 2\n",
        "\n",
        "  global_average_layer = tf.keras.layers.GlobalAveragePooling2D()(base_model.output)\n",
        "  flatten_layer = Flatten(name=\"flatten\")(global_average_layer)\n",
        "  dense_layer = Dense(64, activation=\"relu\")(flatten_layer)\n",
        "  dropout_layer = Dropout(0.5)(dense_layer)\n",
        "  prediction_layer = tf.keras.layers.Dense(n_output_classes, activation='softmax')(dropout_layer)\n",
        "\n",
        "  model = tf.keras.models.Model(inputs=base_model.input, outputs=prediction_layer)\n",
        "  model.compile(optimizer=tf.keras.optimizers.Adam(lr=INIT_LR), loss=tf.keras.losses.BinaryCrossentropy(from_logits=True), metrics=[\"accuracy\"])\n"
      ],
      "execution_count": 0,
      "outputs": []
    },
    {
      "cell_type": "code",
      "metadata": {
        "id": "q6qJvDgKNCab",
        "colab_type": "code",
        "outputId": "87127fdc-e2d5-4aa3-b509-026604d6c48c",
        "colab": {
          "base_uri": "https://localhost:8080/",
          "height": 35
        }
      },
      "source": [
        "if selected_model == ModelChoices.ENSEMBLE:\n",
        "  def load_all_models():\n",
        "      all_models = []\n",
        "      model_names = [\n",
        "        'pretrained_on_vgg_16.model',\n",
        "        'pretrained_on_inceptionv3.model'\n",
        "      ]\n",
        "      for model_name in model_names:\n",
        "          filename = os.path.join(ROOT_DIR, 'models', model_name)\n",
        "          model = tf.keras.models.load_model(filename)\n",
        "          all_models.append(model)\n",
        "          print('loaded:', filename)\n",
        "      return all_models\n",
        "\n",
        "  models = load_all_models()\n",
        "  for i, model in enumerate(models):\n",
        "      for layer in model.layers:\n",
        "          layer.trainable = False\n",
        "\n",
        "  ensemble_visible = [model.input for model in models]\n",
        "  ensemble_outputs = [model.output for model in models]\n",
        "\n",
        "  merge = tf.keras.layers.concatenate(ensemble_outputs)\n",
        "  merge = tf.keras.layers.Dense(10, activation='relu', name=\"DENSE_SEMI_FINAL\")(merge)\n",
        "  output = tf.keras.layers.Dense(2, activation='sigmoid', name=\"DENSE_FINAL\")(merge)\n",
        "  model = tf.keras.models.Model(inputs=ensemble_visible, outputs=output)\n",
        "\n",
        "  # slightly larger learning rate for ensemble model\n",
        "  model.compile(optimizer=tf.keras.optimizers.Adam(lr=0.001), loss=tf.keras.losses.BinaryCrossentropy(from_logits=True), metrics=[\"accuracy\"])"
      ],
      "execution_count": 0,
      "outputs": [
        {
          "output_type": "stream",
          "text": [
            "loaded: ./drive/My Drive/Waterkant/models/pretrained_on_vgg_16.model\n"
          ],
          "name": "stdout"
        }
      ]
    },
    {
      "cell_type": "markdown",
      "metadata": {
        "id": "CRAzdSQELZ0T",
        "colab_type": "text"
      },
      "source": [
        "### Training 🏃"
      ]
    },
    {
      "cell_type": "code",
      "metadata": {
        "id": "0v2mFj1hkvlI",
        "colab_type": "code",
        "colab": {}
      },
      "source": [
        "early_stop_callback = tf.keras.callbacks.EarlyStopping(monitor='loss', patience=3)\n",
        "\n",
        "log_dir = os.path.join(ROOT_DIR, \"logs/fit/\" + datetime.datetime.now().strftime(\"%Y%m%d-%H%M%S\"))\n",
        "tensorboard_callback = tf.keras.callbacks.TensorBoard(log_dir=log_dir, histogram_freq=1)"
      ],
      "execution_count": 0,
      "outputs": []
    },
    {
      "cell_type": "code",
      "metadata": {
        "id": "pQfqO_Rum0Yi",
        "colab_type": "code",
        "colab": {}
      },
      "source": [
        "# Load the TensorBoard notebook extension\n",
        "%load_ext tensorboard"
      ],
      "execution_count": 0,
      "outputs": []
    },
    {
      "cell_type": "code",
      "metadata": {
        "id": "sr6AC11im58u",
        "colab_type": "code",
        "colab": {}
      },
      "source": [
        "%tensorboard --logdir drive/My\\ Drive/Waterkant/logs/fit"
      ],
      "execution_count": 0,
      "outputs": []
    },
    {
      "cell_type": "code",
      "metadata": {
        "id": "HX3307ZHj3E9",
        "colab_type": "code",
        "colab": {}
      },
      "source": [
        "H = model.fit(train_set, \n",
        "    steps_per_epoch=len(train_set),\n",
        "\t  validation_data=validation_set,\n",
        "\t  validation_steps=len(validation_set),\n",
        "\t  epochs=EPOCHS,\n",
        "    callbacks=[early_stop_callback, tensorboard_callback]\n",
        ")"
      ],
      "execution_count": 0,
      "outputs": []
    },
    {
      "cell_type": "markdown",
      "metadata": {
        "id": "Bn8EdW4rK3wc",
        "colab_type": "text"
      },
      "source": [
        "### Saving model to disk"
      ]
    },
    {
      "cell_type": "code",
      "metadata": {
        "id": "LoeOx1Trj7oY",
        "colab_type": "code",
        "outputId": "834dc045-e538-4694-b3b7-13e678394e1d",
        "colab": {
          "base_uri": "https://localhost:8080/",
          "height": 35
        }
      },
      "source": [
        "resize_str = str(resize_to).replace('(', '').replace(')', '').replace(', ', '_')\n",
        "MODEL_NAME = f\"c10-covid19-characterization_{selected_model.name}_{resize_str}\"\n",
        "MODEL_NAME"
      ],
      "execution_count": 0,
      "outputs": [
        {
          "output_type": "execute_result",
          "data": {
            "text/plain": [
              "'c10-covid19-characterization_VGG_224_224'"
            ]
          },
          "metadata": {
            "tags": []
          },
          "execution_count": 23
        }
      ]
    },
    {
      "cell_type": "code",
      "metadata": {
        "id": "QGLhjZypOkxL",
        "colab_type": "code",
        "outputId": "7b4cb6d0-b92d-468a-c87e-0ade59cda68c",
        "colab": {
          "base_uri": "https://localhost:8080/",
          "height": 35
        }
      },
      "source": [
        "# serialize the model to disk\n",
        "print(\"[INFO] saving COVID-19 detector model...\")\n",
        "model.save(f\"{MODEL_NAME}.model\", save_format=\"h5\")"
      ],
      "execution_count": 0,
      "outputs": [
        {
          "output_type": "stream",
          "text": [
            "[INFO] saving COVID-19 detector model...\n"
          ],
          "name": "stdout"
        }
      ]
    },
    {
      "cell_type": "markdown",
      "metadata": {
        "id": "JFsN0jXyLB0n",
        "colab_type": "text"
      },
      "source": [
        "### Loading already trained model from disk"
      ]
    },
    {
      "cell_type": "code",
      "metadata": {
        "id": "fo4kGKvzXnEq",
        "colab_type": "code",
        "colab": {}
      },
      "source": [
        "### For loading already trained model\n",
        "model_name = 'pretrained_on_vgg_16.model'\n",
        "filename = os.path.join(ROOT_DIR, 'models', model_name)\n",
        "\n",
        "model = tf.keras.models.load_model(filename)"
      ],
      "execution_count": 0,
      "outputs": []
    },
    {
      "cell_type": "markdown",
      "metadata": {
        "id": "nOm2tXRMKsb8",
        "colab_type": "text"
      },
      "source": [
        "### Running against test"
      ]
    },
    {
      "cell_type": "code",
      "metadata": {
        "id": "WQ9ktgR3ccDw",
        "colab_type": "code",
        "colab": {}
      },
      "source": [
        "def get_processed_image(image_path):\n",
        "  # load the image, swap color channels, and resize it to be a fixed\n",
        "  # 224x224 pixels while ignoring aspect ratio\n",
        "  image = cv2.imread(image_path)\n",
        "  image = cv2.cvtColor(image, cv2.COLOR_BGR2RGB)\n",
        "  image = cv2.resize(image, resize_to)\n",
        "\n",
        "  return image\n",
        "\n",
        "# we had to load the test dataset in a different way, as the labels for them weren't present\n",
        "final_test_images_paths = list(paths.list_images(FINAL_TEST_IMAGES_PATH))\n",
        "test_set = np.array([get_processed_image(test_images_path) for test_images_path in final_test_images_paths])"
      ],
      "execution_count": 0,
      "outputs": []
    },
    {
      "cell_type": "code",
      "metadata": {
        "id": "0xrOlc22ASrn",
        "colab_type": "code",
        "outputId": "e3db3b3c-0444-41b1-d3e4-765e71eaf78d",
        "colab": {
          "base_uri": "https://localhost:8080/",
          "height": 35
        }
      },
      "source": [
        "print(\"[INFO] evaluating network on test set...\")\n",
        "predIdxs = model.predict(test_set, batch_size=BATCH_SIZE)\n",
        "# for each image in the testing set we need to find the index of the\n",
        "# label with corresponding largest predicted probability\n",
        "predIdxs = np.argmax(predIdxs, axis=1)"
      ],
      "execution_count": 0,
      "outputs": [
        {
          "output_type": "stream",
          "text": [
            "[INFO] evaluating network...\n"
          ],
          "name": "stdout"
        }
      ]
    },
    {
      "cell_type": "code",
      "metadata": {
        "id": "heG8jiI3kKYC",
        "colab_type": "code",
        "outputId": "840cee61-14e1-4e3b-861c-a9c9e26d4833",
        "colab": {
          "base_uri": "https://localhost:8080/",
          "height": 164
        }
      },
      "source": [
        "predIdxs"
      ],
      "execution_count": 0,
      "outputs": [
        {
          "output_type": "execute_result",
          "data": {
            "text/plain": [
              "array([1, 1, 1, 1, 0, 0, 1, 0, 1, 1, 1, 0, 0, 1, 0, 0, 0, 1, 1, 1, 1, 0,\n",
              "       1, 1, 0, 1, 0, 1, 1, 0, 1, 1, 0, 1, 0, 1, 1, 1, 0, 1, 0, 0, 0, 1,\n",
              "       0, 1, 1, 1, 1, 1, 1, 1, 1, 1, 1, 1, 1, 1, 0, 0, 1, 0, 0, 1, 0, 1,\n",
              "       1, 1, 1, 1, 1, 0, 1, 1, 0, 0, 1, 0, 1, 1, 1, 1, 1, 1, 0, 0, 0, 1,\n",
              "       1, 0, 0, 1, 1, 1, 1, 0, 1, 1, 1, 1, 1, 1, 1, 1, 1, 1, 0, 0, 1, 1,\n",
              "       1, 0, 1, 1, 0, 1, 1, 1, 1, 1, 1, 1, 1, 0, 1, 0, 0, 1, 0, 1, 1, 1,\n",
              "       1, 1, 0, 1, 0, 1, 0, 1, 0, 1, 0, 1, 1, 1, 1, 1, 1, 0, 1, 1, 0, 1,\n",
              "       1, 0, 1, 0, 0, 1, 1, 1, 1, 1, 0, 1, 0, 1, 0, 1, 1, 1, 0, 0, 1, 1])"
            ]
          },
          "metadata": {
            "tags": []
          },
          "execution_count": 13
        }
      ]
    },
    {
      "cell_type": "markdown",
      "metadata": {
        "id": "TFZP78TEKh-i",
        "colab_type": "text"
      },
      "source": [
        "### Format predictions for submission"
      ]
    },
    {
      "cell_type": "code",
      "metadata": {
        "id": "zqBgsqj_djoY",
        "colab_type": "code",
        "colab": {}
      },
      "source": [
        "def format_predictions(predIdxs, images_path):\n",
        "  all_predictions = []\n",
        "  for i in range(len(test_set)):\n",
        "    output = dict({\n",
        "        'image': os.path.basename(images_path[i]), \n",
        "        'prediction': int(predIdxs[i])\n",
        "      })\n",
        "    all_predictions.append(output)\n",
        "  return sorted(all_predictions, key=lambda k: k['image']) "
      ],
      "execution_count": 0,
      "outputs": []
    },
    {
      "cell_type": "code",
      "metadata": {
        "id": "f9KeK9Pt9XcB",
        "colab_type": "code",
        "outputId": "d5f14c3b-d996-4ebc-be10-26284b8823c6",
        "colab": {
          "base_uri": "https://localhost:8080/",
          "height": 55
        }
      },
      "source": [
        "predictions = format_predictions(predIdxs, final_test_images_paths)\n",
        "\n",
        "print(json.dumps(predictions))\n",
        "\n",
        "with open(f\"{MODEL_NAME}_final.json\", 'w') as F:\n",
        "  # Use the json dumps method to write the list to disk\n",
        "  F.write(json.dumps(predictions))  "
      ],
      "execution_count": 0,
      "outputs": [
        {
          "output_type": "stream",
          "text": [
            "[{\"image\": \"700.jpg\", \"prediction\": 1}, {\"image\": \"701.jpg\", \"prediction\": 1}, {\"image\": \"702.jpg\", \"prediction\": 1}, {\"image\": \"703.jpg\", \"prediction\": 1}, {\"image\": \"704.jpg\", \"prediction\": 0}, {\"image\": \"705.jpg\", \"prediction\": 0}, {\"image\": \"706.jpg\", \"prediction\": 1}, {\"image\": \"707.jpg\", \"prediction\": 0}, {\"image\": \"708.jpg\", \"prediction\": 1}, {\"image\": \"709.jpg\", \"prediction\": 1}, {\"image\": \"710.jpg\", \"prediction\": 1}, {\"image\": \"711.jpg\", \"prediction\": 0}, {\"image\": \"712.jpg\", \"prediction\": 0}, {\"image\": \"713.jpg\", \"prediction\": 1}, {\"image\": \"714.jpg\", \"prediction\": 0}, {\"image\": \"715.jpg\", \"prediction\": 0}, {\"image\": \"716.jpg\", \"prediction\": 0}, {\"image\": \"717.jpg\", \"prediction\": 1}, {\"image\": \"718.jpg\", \"prediction\": 1}, {\"image\": \"719.jpg\", \"prediction\": 1}, {\"image\": \"720.jpg\", \"prediction\": 1}, {\"image\": \"721.jpg\", \"prediction\": 0}, {\"image\": \"722.jpg\", \"prediction\": 1}, {\"image\": \"723.jpg\", \"prediction\": 1}, {\"image\": \"724.jpg\", \"prediction\": 0}, {\"image\": \"725.jpg\", \"prediction\": 1}, {\"image\": \"726.jpg\", \"prediction\": 0}, {\"image\": \"727.jpg\", \"prediction\": 1}, {\"image\": \"728.jpg\", \"prediction\": 1}, {\"image\": \"729.jpg\", \"prediction\": 0}, {\"image\": \"730.jpg\", \"prediction\": 1}, {\"image\": \"731.jpg\", \"prediction\": 1}, {\"image\": \"732.jpg\", \"prediction\": 0}, {\"image\": \"733.jpg\", \"prediction\": 1}, {\"image\": \"734.jpg\", \"prediction\": 0}, {\"image\": \"735.jpg\", \"prediction\": 1}, {\"image\": \"736.jpg\", \"prediction\": 1}, {\"image\": \"737.jpg\", \"prediction\": 1}, {\"image\": \"738.jpg\", \"prediction\": 0}, {\"image\": \"739.jpg\", \"prediction\": 1}, {\"image\": \"740.jpg\", \"prediction\": 0}, {\"image\": \"741.jpg\", \"prediction\": 0}, {\"image\": \"742.jpg\", \"prediction\": 0}, {\"image\": \"743.jpg\", \"prediction\": 1}, {\"image\": \"744.jpg\", \"prediction\": 0}, {\"image\": \"745.jpg\", \"prediction\": 1}, {\"image\": \"746.jpg\", \"prediction\": 1}, {\"image\": \"747.jpg\", \"prediction\": 1}, {\"image\": \"748.jpg\", \"prediction\": 1}, {\"image\": \"749.jpg\", \"prediction\": 1}, {\"image\": \"750.jpg\", \"prediction\": 1}, {\"image\": \"751.jpg\", \"prediction\": 1}, {\"image\": \"752.jpg\", \"prediction\": 1}, {\"image\": \"753.jpg\", \"prediction\": 1}, {\"image\": \"754.jpg\", \"prediction\": 1}, {\"image\": \"755.jpg\", \"prediction\": 1}, {\"image\": \"756.jpg\", \"prediction\": 1}, {\"image\": \"757.jpg\", \"prediction\": 1}, {\"image\": \"758.jpg\", \"prediction\": 0}, {\"image\": \"759.jpg\", \"prediction\": 0}, {\"image\": \"760.jpg\", \"prediction\": 1}, {\"image\": \"761.jpg\", \"prediction\": 0}, {\"image\": \"762.jpg\", \"prediction\": 0}, {\"image\": \"763.jpg\", \"prediction\": 1}, {\"image\": \"764.jpg\", \"prediction\": 0}, {\"image\": \"765.jpg\", \"prediction\": 1}, {\"image\": \"766.jpg\", \"prediction\": 1}, {\"image\": \"767.jpg\", \"prediction\": 1}, {\"image\": \"768.jpg\", \"prediction\": 1}, {\"image\": \"769.jpg\", \"prediction\": 1}, {\"image\": \"770.jpg\", \"prediction\": 1}, {\"image\": \"771.jpg\", \"prediction\": 0}, {\"image\": \"772.jpg\", \"prediction\": 1}, {\"image\": \"773.jpg\", \"prediction\": 1}, {\"image\": \"774.jpg\", \"prediction\": 0}, {\"image\": \"775.jpg\", \"prediction\": 0}, {\"image\": \"776.jpg\", \"prediction\": 1}, {\"image\": \"777.jpg\", \"prediction\": 0}, {\"image\": \"778.jpg\", \"prediction\": 1}, {\"image\": \"779.jpg\", \"prediction\": 1}, {\"image\": \"780.jpg\", \"prediction\": 1}, {\"image\": \"781.jpg\", \"prediction\": 1}, {\"image\": \"782.jpg\", \"prediction\": 1}, {\"image\": \"783.jpg\", \"prediction\": 1}, {\"image\": \"784.jpg\", \"prediction\": 0}, {\"image\": \"785.jpg\", \"prediction\": 0}, {\"image\": \"786.jpg\", \"prediction\": 0}, {\"image\": \"787.jpg\", \"prediction\": 1}, {\"image\": \"788.jpg\", \"prediction\": 1}, {\"image\": \"789.jpg\", \"prediction\": 0}, {\"image\": \"790.jpg\", \"prediction\": 0}, {\"image\": \"791.jpg\", \"prediction\": 1}, {\"image\": \"792.jpg\", \"prediction\": 1}, {\"image\": \"793.jpg\", \"prediction\": 1}, {\"image\": \"794.jpg\", \"prediction\": 1}, {\"image\": \"795.jpg\", \"prediction\": 0}, {\"image\": \"796.jpg\", \"prediction\": 1}, {\"image\": \"797.jpg\", \"prediction\": 1}, {\"image\": \"798.jpg\", \"prediction\": 1}, {\"image\": \"799.jpg\", \"prediction\": 1}, {\"image\": \"800.jpg\", \"prediction\": 1}, {\"image\": \"801.jpg\", \"prediction\": 1}, {\"image\": \"802.jpg\", \"prediction\": 1}, {\"image\": \"803.jpg\", \"prediction\": 1}, {\"image\": \"804.jpg\", \"prediction\": 1}, {\"image\": \"805.jpg\", \"prediction\": 1}, {\"image\": \"806.jpg\", \"prediction\": 0}, {\"image\": \"807.jpg\", \"prediction\": 0}, {\"image\": \"808.jpg\", \"prediction\": 1}, {\"image\": \"809.jpg\", \"prediction\": 1}, {\"image\": \"810.jpg\", \"prediction\": 1}, {\"image\": \"811.jpg\", \"prediction\": 0}, {\"image\": \"812.jpg\", \"prediction\": 1}, {\"image\": \"813.jpg\", \"prediction\": 1}, {\"image\": \"814.jpg\", \"prediction\": 0}, {\"image\": \"815.jpg\", \"prediction\": 1}, {\"image\": \"816.jpg\", \"prediction\": 1}, {\"image\": \"817.jpg\", \"prediction\": 1}, {\"image\": \"818.jpg\", \"prediction\": 1}, {\"image\": \"819.jpg\", \"prediction\": 1}, {\"image\": \"820.jpg\", \"prediction\": 1}, {\"image\": \"821.jpg\", \"prediction\": 1}, {\"image\": \"822.jpg\", \"prediction\": 1}, {\"image\": \"823.jpg\", \"prediction\": 0}, {\"image\": \"824.jpg\", \"prediction\": 1}, {\"image\": \"825.jpg\", \"prediction\": 0}, {\"image\": \"826.jpg\", \"prediction\": 0}, {\"image\": \"827.jpg\", \"prediction\": 1}, {\"image\": \"828.jpg\", \"prediction\": 0}, {\"image\": \"829.jpg\", \"prediction\": 1}, {\"image\": \"830.jpg\", \"prediction\": 1}, {\"image\": \"831.jpg\", \"prediction\": 1}, {\"image\": \"832.jpg\", \"prediction\": 1}, {\"image\": \"833.jpg\", \"prediction\": 1}, {\"image\": \"834.jpg\", \"prediction\": 0}, {\"image\": \"835.jpg\", \"prediction\": 1}, {\"image\": \"836.jpg\", \"prediction\": 0}, {\"image\": \"837.jpg\", \"prediction\": 1}, {\"image\": \"838.jpg\", \"prediction\": 0}, {\"image\": \"839.jpg\", \"prediction\": 1}, {\"image\": \"840.jpg\", \"prediction\": 0}, {\"image\": \"841.jpg\", \"prediction\": 1}, {\"image\": \"842.jpg\", \"prediction\": 0}, {\"image\": \"843.jpg\", \"prediction\": 1}, {\"image\": \"844.jpg\", \"prediction\": 1}, {\"image\": \"845.jpg\", \"prediction\": 1}, {\"image\": \"846.jpg\", \"prediction\": 1}, {\"image\": \"847.jpg\", \"prediction\": 1}, {\"image\": \"848.jpg\", \"prediction\": 1}, {\"image\": \"849.jpg\", \"prediction\": 0}, {\"image\": \"850.jpg\", \"prediction\": 1}, {\"image\": \"851.jpg\", \"prediction\": 1}, {\"image\": \"852.jpg\", \"prediction\": 0}, {\"image\": \"853.jpg\", \"prediction\": 1}, {\"image\": \"854.jpg\", \"prediction\": 1}, {\"image\": \"855.jpg\", \"prediction\": 0}, {\"image\": \"856.jpg\", \"prediction\": 1}, {\"image\": \"857.jpg\", \"prediction\": 0}, {\"image\": \"858.jpg\", \"prediction\": 0}, {\"image\": \"859.jpg\", \"prediction\": 1}, {\"image\": \"860.jpg\", \"prediction\": 1}, {\"image\": \"861.jpg\", \"prediction\": 1}, {\"image\": \"862.jpg\", \"prediction\": 1}, {\"image\": \"863.jpg\", \"prediction\": 1}, {\"image\": \"864.jpg\", \"prediction\": 0}, {\"image\": \"865.jpg\", \"prediction\": 1}, {\"image\": \"866.jpg\", \"prediction\": 0}, {\"image\": \"867.jpg\", \"prediction\": 1}, {\"image\": \"868.jpg\", \"prediction\": 0}, {\"image\": \"869.jpg\", \"prediction\": 1}, {\"image\": \"870.jpg\", \"prediction\": 1}, {\"image\": \"871.jpg\", \"prediction\": 1}, {\"image\": \"872.jpg\", \"prediction\": 0}, {\"image\": \"873.jpg\", \"prediction\": 0}, {\"image\": \"874.jpg\", \"prediction\": 1}, {\"image\": \"875.jpg\", \"prediction\": 1}]\n"
          ],
          "name": "stdout"
        }
      ]
    }
  ]
}